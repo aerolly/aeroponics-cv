{
 "cells": [
  {
   "cell_type": "code",
   "execution_count": 1,
   "metadata": {},
   "outputs": [],
   "source": [
    "from sklearn.ensemble import AdaBoostRegressor\n",
    "from sklearn import datasets\n",
    "from sklearn.model_selection import train_test_split\n",
    "from sklearn import metrics\n",
    "import numpy as np\n",
    "from numpy import asarray"
   ]
  },
  {
   "cell_type": "markdown",
   "metadata": {},
   "source": [
    "Import Images"
   ]
  },
  {
   "cell_type": "code",
   "execution_count": 4,
   "metadata": {},
   "outputs": [],
   "source": [
    "from PIL import Image\n",
    "import glob\n",
    "import numpy as np\n",
    "\n",
    "img_train = []\n",
    "img_test = []\n",
    "\n",
    "label_train = []\n",
    "label_test = []\n",
    "\n",
    "trainFiles = glob.glob (\"D:/Github/aeroponics-cv/noplant/*.png\")\n",
    "for myFile in trainFiles:\n",
    "    # print(myFile)\n",
    "    image = Image.open (myFile)\n",
    "    img_train.append (asarray(image))\n",
    "    label_train.append (\"plant\")\n",
    "    \n",
    "\n",
    "testFiles = glob.glob (\"D:/Github/aeroponics-cv/noplant_test/*.png\")\n",
    "for myFile in testFiles:\n",
    "    # print(myFile)\n",
    "    image = Image.open (myFile)\n",
    "    img_test.append (asarray(image))\n",
    "    label_test.append (\"no plant\")\n",
    "    "
   ]
  },
  {
   "cell_type": "code",
   "execution_count": 5,
   "metadata": {},
   "outputs": [],
   "source": [
    "label_test = np.array(label_test)\n",
    "label_train = np.array(label_train)"
   ]
  },
  {
   "cell_type": "code",
   "execution_count": 7,
   "metadata": {},
   "outputs": [],
   "source": [
    "img_train = np.array(img_train)\n",
    "img_test = np.array(img_test)"
   ]
  },
  {
   "cell_type": "code",
   "execution_count": 11,
   "metadata": {},
   "outputs": [
    {
     "name": "stdout",
     "output_type": "stream",
     "text": [
      "['no plant' 'no plant']\n"
     ]
    }
   ],
   "source": [
    "print(label_test)"
   ]
  },
  {
   "cell_type": "code",
   "execution_count": null,
   "metadata": {},
   "outputs": [],
   "source": []
  }
 ],
 "metadata": {
  "kernelspec": {
   "display_name": "Python 3",
   "language": "python",
   "name": "python3"
  },
  "language_info": {
   "codemirror_mode": {
    "name": "ipython",
    "version": 3
   },
   "file_extension": ".py",
   "mimetype": "text/x-python",
   "name": "python",
   "nbconvert_exporter": "python",
   "pygments_lexer": "ipython3",
   "version": "3.7.4"
  }
 },
 "nbformat": 4,
 "nbformat_minor": 2
}
